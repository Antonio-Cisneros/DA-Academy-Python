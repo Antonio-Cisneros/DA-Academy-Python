{
 "cells": [
  {
   "cell_type": "markdown",
   "id": "3afef2cd",
   "metadata": {},
   "source": [
    "<h1><center>Python Academy - Exercises - 1</center></h1>\n",
    "<h1><center>(Antonio Cisneros Argüelles)</center></h1>"
   ]
  },
  {
   "cell_type": "markdown",
   "id": "a0b999e5",
   "metadata": {},
   "source": [
    "Exercise First Attempt for Python\n",
    "Write a function called \"say_hello\" that prints the next text: \"Hello , welcome!\"\n",
    "\n",
    "Note: Your function must prompt the user to enter the parameter string\n",
    "\n",
    "Topics: Taking input in python"
   ]
  },
  {
   "cell_type": "code",
   "execution_count": 1,
   "id": "9c4da402",
   "metadata": {},
   "outputs": [
    {
     "name": "stdout",
     "output_type": "stream",
     "text": [
      "Please, enter your name: Antonio\n",
      "Hello Antonio, welcome!\n"
     ]
    }
   ],
   "source": [
    "def say_hello():\n",
    "    name = input(\"Please, enter your name: \")\n",
    "    return print(\"Hello\", name + \", welcome!\")\n",
    "\n",
    "say_hello()"
   ]
  },
  {
   "cell_type": "markdown",
   "id": "e29dc2dc",
   "metadata": {},
   "source": [
    "### Exercise 1\n",
    "\n",
    "Write a function called \"compare_x_y\"  that receives 2 paramters (x,y) and returns 1 if x > y, 0 if x == y, and -1 if x < y\n",
    "\n",
    "#### Topics: Basic Operators, Conditional Executions\n"
   ]
  },
  {
   "cell_type": "code",
   "execution_count": 2,
   "id": "f9e89c37",
   "metadata": {},
   "outputs": [],
   "source": [
    "# Your answer here:\n",
    "def compare_x_y(x,y):\n",
    "    if x > y:\n",
    "        return 1\n",
    "    elif x == y:\n",
    "        return 0\n",
    "    elif x < y:\n",
    "        return -1\n",
    "\n",
    "\"\"\"\n",
    "print(compare_x_y(2,1))\n",
    "print(compare_x_y(1,1))\n",
    "print(compare_x_y(1,2))\n",
    "\"\"\"\n",
    "assert compare_x_y(5,4) == 1, \"The function is not working as expected\"\n",
    "assert compare_x_y(4,4) == 0, \"The function is not working as expected\"\n",
    "assert compare_x_y(3,4) == -1, \"The function is not working as expected\""
   ]
  },
  {
   "cell_type": "markdown",
   "id": "c3a55396",
   "metadata": {},
   "source": [
    "### Exercise 2\n",
    "\n",
    "Write a function called \"hypotenuse\" that returns the length of the hypotenuse of a right triangle given the lengths of the two legs as arguments.\n",
    "\n",
    "#### Topics: Basic Operators"
   ]
  },
  {
   "cell_type": "code",
   "execution_count": 3,
   "id": "bfebb113",
   "metadata": {},
   "outputs": [],
   "source": [
    "# Your answer here:\n",
    "def hypotenuse(x,y):\n",
    "    hypo = x**2 + y**2\n",
    "    hypo = hypo ** 0.5\n",
    "    return hypo\n",
    "\"\"\"\n",
    "hypotenuse(4,6)\n",
    "\"\"\"\n",
    "assert \"{:.2f}\".format(hypotenuse(12,14)) == \"18.44\", \"The function is not working as expected\"\n",
    "assert \"{:.2f}\".format(hypotenuse(45,34)) == \"56.40\", \"The function is not working as expected\"\n",
    "assert \"{:.2f}\".format(hypotenuse(1,2)) == \"2.24\", \"The function is not working as expected\"\n"
   ]
  },
  {
   "cell_type": "markdown",
   "id": "7aefae51",
   "metadata": {},
   "source": [
    "### Exercise 3\n",
    "\n",
    "Write a function called is_between(x, y, z) that returns True if x ≤ y ≤ z or False otherwise.\n",
    "\n",
    "#### Topics: Basic Operators"
   ]
  },
  {
   "cell_type": "code",
   "execution_count": 4,
   "id": "ba23e86a",
   "metadata": {},
   "outputs": [],
   "source": [
    "# Your answer here:\n",
    "def is_between(x,y,z):\n",
    "    if x <= y <= z:\n",
    "        return True\n",
    "    else:\n",
    "        return False\n",
    "\"\"\"\n",
    "is_between(1,2,3)\n",
    "\"\"\"\n",
    "assert is_between(3,4,5) == True, \"The function is not working as expected\"\n",
    "assert is_between(4,6,1) == False, \"The function is not working as expected\"\n",
    "assert is_between(3,4,5) == True, \"The function is not working as expected\"\n",
    "assert is_between(4,6,1) == False, \"The function is not working as expected\"\n",
    "assert is_between(4,4,4) == True, \"The function is not working as expected\""
   ]
  },
  {
   "cell_type": "markdown",
   "id": "7a35269c",
   "metadata": {},
   "source": [
    "### Exercise 4\n",
    "\n",
    "A number, X, is a power of Y if it is divisible by Y and X/Y is a power of Y. \n",
    "\n",
    "Write a function called is_power that takes parameters X and Y and returns True if X is a power of Y.\n",
    "\n",
    "#### Topics: Basic Operators"
   ]
  },
  {
   "cell_type": "code",
   "execution_count": 5,
   "id": "6f9929d1",
   "metadata": {},
   "outputs": [],
   "source": [
    "# Your answer here:\n",
    "def is_power(x,y):\n",
    "    if x % y == 0 and (x/y) % y == 0:\n",
    "        return True\n",
    "    else:\n",
    "        return False\n",
    "#is_power(9, 3)\n",
    "\n",
    "assert is_power(64,4) == True, \"The function is not working as expected\"\n",
    "assert is_power(6,2) == False, \"The function is not working as expected\"\n",
    "assert is_power(1296,6) == True, \"The function is not working as expected\"\n",
    "\n",
    "# Credits to David since he wrote the math operation that I was missing."
   ]
  },
  {
   "cell_type": "markdown",
   "id": "1d4275f4",
   "metadata": {},
   "source": [
    "### Exercise 5\n",
    "\n",
    "Write a function called \"greatest_common_divisor\" that takes parameters a and b and returns their greatest common divisor.\n",
    "\n",
    "#### Topics: Basic Operators"
   ]
  },
  {
   "cell_type": "code",
   "execution_count": 6,
   "id": "3af5d687",
   "metadata": {},
   "outputs": [],
   "source": [
    "# Your answer here:\n",
    "def greatest_common_divisor(x,y):\n",
    "    if x == 0:\n",
    "        return x\n",
    "    while y != 0:\n",
    "        if x > y:\n",
    "            x = x - y\n",
    "        else:\n",
    "            y = y - x\n",
    "    return x\n",
    "\n",
    "#greatest_common_divisor(14,5)\n",
    "\n",
    "assert greatest_common_divisor(64,4) == 4, \"The function is not working as expected\"\n",
    "assert greatest_common_divisor(6,2) == 2, \"The function is not working as expected\"\n",
    "assert greatest_common_divisor(12,36) == 12, \"The function is not working as expected\""
   ]
  },
  {
   "cell_type": "markdown",
   "id": "289e5952",
   "metadata": {},
   "source": [
    "### Exercise 6\n",
    "Write a function called \"print_backward\" that takes a string as an argument and displays the letters backward, one per line.\n",
    "\n",
    "#### Topics: Loops, Slices, String methods"
   ]
  },
  {
   "cell_type": "code",
   "execution_count": 7,
   "id": "8f4184e0",
   "metadata": {},
   "outputs": [
    {
     "name": "stdout",
     "output_type": "stream",
     "text": [
      "o\n",
      "g\n",
      "n\n",
      "a\n",
      "M\n"
     ]
    }
   ],
   "source": [
    "# Your answer here:\n",
    "def print_backward(word):\n",
    "    for i in word[::-1]:\n",
    "        print(i)\n",
    "print_backward(\"Mango\")"
   ]
  },
  {
   "cell_type": "markdown",
   "id": "bed56cb9",
   "metadata": {},
   "source": [
    "### Exercise 7\n",
    "\n",
    "Write a function called \"is_palindrome\" that takes a string argument and returns \"True\" if it is a palindrome and False otherwise. \n",
    "\n",
    "Note: String can include blanks spaces\n",
    "\n",
    "#### Topics: Slices, String methods"
   ]
  },
  {
   "cell_type": "code",
   "execution_count": 8,
   "id": "f6aaf520",
   "metadata": {},
   "outputs": [],
   "source": [
    "def is_palindrome(word):\n",
    "    word_step = \"\"\n",
    "    word_rev = \"\"\n",
    "    for i in word.strip():\n",
    "        word_step = word_step + i.replace(\" \",\"\")\n",
    "        #print(word_step)\n",
    "        word_rev = i.replace(\" \", \"\") + word_rev\n",
    "        #print(word_rev)\n",
    "    if word_step.casefold() == word_rev.casefold():\n",
    "        return True\n",
    "    return False\n",
    "\n",
    "#is_palindrome(\"Madam\")\n",
    "#is_palindrome(\"A mi loca Colima\")\n",
    "\n",
    "assert is_palindrome(\"A mi loca Colima\") == True, \"The function is not working as expected\"\n",
    "assert is_palindrome(\"roma\") == False, \"The function is not working as expected\"\n",
    "assert is_palindrome(\"madam\") == True, \"The function is not working as expected\"\n",
    "assert is_palindrome(\"Alli ves a Sevilla\") == True, \"The function is not working as expected\""
   ]
  },
  {
   "cell_type": "markdown",
   "id": "906fd2e9",
   "metadata": {},
   "source": [
    "### Exercise 8\n",
    "Write a function named \"avoids\" that promts the user to enter 2 paramters: a \"string\" and a \"string\" of forbidden letters\n",
    "The functions must return True if the word doesn’t use any of the forbidden letters, otherwise, False \n",
    "\n",
    "#### Topics: String methods, Conditioinal execution"
   ]
  },
  {
   "cell_type": "code",
   "execution_count": 9,
   "id": "22d69935",
   "metadata": {},
   "outputs": [],
   "source": [
    "# Your answer here:\n",
    "def avoids(word_1, word_2):\n",
    "    # word_1 = input(\"Enter the string #1: \")\n",
    "    # word_2 = input(\"Enter the string #2: \")\n",
    "    for i in word_1:\n",
    "        if i in word_2:\n",
    "            return False\n",
    "    return True\n",
    "\n",
    "# avoids()\n",
    "\n",
    "assert avoids(\"Jose\",\"zrtp\") == True, \"The function is not working as expected\"\n",
    "assert avoids(\"Maria\", \"abcde\") == False, \"The function is not working as expected\"\n",
    "assert avoids(\"Mate\", \"abcde\") == False, \"The function is not working as expected\"\n",
    "assert avoids(\"Mate\", \"bcd\") == True, \"The function is not working as expected\""
   ]
  },
  {
   "cell_type": "markdown",
   "id": "7199783e",
   "metadata": {},
   "source": [
    "### Exercise 9\n",
    "Write a function called \"letters_sequence\". This functions must returns \"True\" if the letters in a word appear in alphabetical order\n",
    "#### Topics: String methods"
   ]
  },
  {
   "cell_type": "code",
   "execution_count": 10,
   "id": "e01f0dd7",
   "metadata": {},
   "outputs": [],
   "source": [
    "# Your answer here:\n",
    "def letters_sequence(letters):\n",
    "    word = letters[0].casefold()\n",
    "    for i in letters:\n",
    "        if i.replace(\" \", \"\") >= word:\n",
    "            word = i\n",
    "        else:\n",
    "            return False\n",
    "    return True\n",
    "\n",
    "assert letters_sequence(\"A mi loca Colima\") == False, \"The function is not working as expected\"\n",
    "assert letters_sequence(\"roma\") == False, \"The function is not working as expected\"\n",
    "assert letters_sequence(\"abcde\") == True, \"The function is not working as expected\"\n",
    "assert letters_sequence(\"Alli ves a Sevilla\") == False, \"The function is not working as expected\""
   ]
  },
  {
   "cell_type": "markdown",
   "id": "983da453",
   "metadata": {},
   "source": [
    "### Exercise 10\n",
    "\n",
    "Write a function called \"middle_list\" that takes a list and returns a new list that contains all but the first and last elements.\n",
    "#### Topics: List methods"
   ]
  },
  {
   "cell_type": "code",
   "execution_count": 11,
   "id": "5e08c9b2",
   "metadata": {},
   "outputs": [],
   "source": [
    "# Your answer here:\n",
    "def middle_list(set_list):\n",
    "    set_list.pop(0)\n",
    "    set_list.pop(-1)\n",
    "    return set_list\n",
    "assert middle_list([\"a\",\"b\",\"c\"]) == [\"b\"], \"The function is not working as expected\"\n",
    "assert middle_list([\"a\",\"b\",\"c\",\"d\"]) == [\"b\",\"c\"], \"The function is not working as expected\"\n",
    "assert middle_list([1,2,3,4,5,6]) == [2,3,4,5], \"The function is not working as expected\"  "
   ]
  }
 ],
 "metadata": {
  "kernelspec": {
   "display_name": "Python 3 (ipykernel)",
   "language": "python",
   "name": "python3"
  },
  "language_info": {
   "codemirror_mode": {
    "name": "ipython",
    "version": 3
   },
   "file_extension": ".py",
   "mimetype": "text/x-python",
   "name": "python",
   "nbconvert_exporter": "python",
   "pygments_lexer": "ipython3",
   "version": "3.9.6"
  }
 },
 "nbformat": 4,
 "nbformat_minor": 5
}
