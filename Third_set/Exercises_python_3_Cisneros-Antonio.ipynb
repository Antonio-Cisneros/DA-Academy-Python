{
 "cells": [
  {
   "cell_type": "markdown",
   "id": "2d791992",
   "metadata": {},
   "source": [
    "<h1><center> Exercises 3</center>\n",
    "<h1><center># Antonio Cisneros Argüelles</center>"
   ]
  },
  {
   "cell_type": "code",
   "execution_count": 1,
   "id": "ef15b750",
   "metadata": {},
   "outputs": [
    {
     "data": {
      "text/plain": [
       "<__main__.Exercises_3 at 0x22c3582b9d0>"
      ]
     },
     "execution_count": 1,
     "metadata": {},
     "output_type": "execute_result"
    }
   ],
   "source": [
    "class Exercises_3():\n",
    "    def letters_sequence(letters):\n",
    "        word = letters[0].casefold()\n",
    "        for i in letters:\n",
    "            if i.replace(\" \", \"\") >= word:\n",
    "                word = i\n",
    "            else:\n",
    "                return False\n",
    "        return True\n",
    "\n",
    "    def middle_list(set_list):\n",
    "        set_list.pop(0)\n",
    "        set_list.pop(-1)\n",
    "        return set_list\n",
    "    \n",
    "    def list_is_sorted(set_list):\n",
    "        if set_list != set_list.sort():\n",
    "            return False\n",
    "        else:\n",
    "            return True\n",
    "\n",
    "    def remove_list_duplicates(set_list):\n",
    "        for i in set_list:\n",
    "            if set_list.count(i) > 1:\n",
    "                set_list.remove(i)\n",
    "        return set_list\n",
    "        \n",
    "        \n",
    "Exercises_3()"
   ]
  },
  {
   "cell_type": "markdown",
   "id": "7199783e",
   "metadata": {},
   "source": [
    "### Exercise\n",
    "Write a function called \"letters_sequence\". This functions must returns \"True\" if the letters in a word appear in alphabetical order\n",
    "#### Topics: String methods"
   ]
  },
  {
   "cell_type": "code",
   "execution_count": 2,
   "id": "e01f0dd7",
   "metadata": {},
   "outputs": [
    {
     "data": {
      "text/plain": [
       "False"
      ]
     },
     "execution_count": 2,
     "metadata": {},
     "output_type": "execute_result"
    }
   ],
   "source": [
    "# Your answer here:\n",
    "Exercises_3.letters_sequence(\"A mi loca Colima\")"
   ]
  },
  {
   "cell_type": "markdown",
   "id": "983da453",
   "metadata": {},
   "source": [
    "### Exercise\n",
    "\n",
    "Write a function called \"middle_list\" that takes a list and returns a new list that contains all but the first and last elements.\n",
    "#### Topics: List methods"
   ]
  },
  {
   "cell_type": "code",
   "execution_count": 3,
   "id": "5e08c9b2",
   "metadata": {},
   "outputs": [
    {
     "data": {
      "text/plain": [
       "['b']"
      ]
     },
     "execution_count": 3,
     "metadata": {},
     "output_type": "execute_result"
    }
   ],
   "source": [
    "# Your answer here:\n",
    "Exercises_3.middle_list([\"a\",\"b\",\"c\"])"
   ]
  },
  {
   "cell_type": "markdown",
   "id": "349ec8fd",
   "metadata": {},
   "source": [
    "### Exercise\n",
    "Write a function called \"list_is_sorted\" that takes a list as a parameter and returns \"True\" if the list is sorted in ascending order and False otherwise. For example, list_is_sorted([1,2,2]) should return \"True\" and list_is_sorted(['b','a']) should return False.\n",
    "####  Topics: List methods, Conditional Executions"
   ]
  },
  {
   "cell_type": "code",
   "execution_count": 4,
   "id": "21a7e2bf",
   "metadata": {},
   "outputs": [
    {
     "data": {
      "text/plain": [
       "False"
      ]
     },
     "execution_count": 4,
     "metadata": {},
     "output_type": "execute_result"
    }
   ],
   "source": [
    "# Your answer here:\n",
    "Exercises_3.list_is_sorted([1,2,2])\n",
    "Exercises_3.list_is_sorted(['b','a'])"
   ]
  },
  {
   "cell_type": "markdown",
   "id": "41168427",
   "metadata": {},
   "source": [
    "### Exercise\n",
    "Write a function called \"remove_list_duplicates\" that takes a list and returns a new list with only the unique elements from the original.\n",
    "\n",
    "####  Topics: List methods, Conditional Executions"
   ]
  },
  {
   "cell_type": "code",
   "execution_count": 5,
   "id": "b75f16bc",
   "metadata": {},
   "outputs": [
    {
     "data": {
      "text/plain": [
       "[1, 2, 3, 4]"
      ]
     },
     "execution_count": 5,
     "metadata": {},
     "output_type": "execute_result"
    }
   ],
   "source": [
    "# Your answer here:\n",
    "Exercises_3.remove_list_duplicates([1,1,2,2,3,4])"
   ]
  }
 ],
 "metadata": {
  "kernelspec": {
   "display_name": "Python 3 (ipykernel)",
   "language": "python",
   "name": "python3"
  },
  "language_info": {
   "codemirror_mode": {
    "name": "ipython",
    "version": 3
   },
   "file_extension": ".py",
   "mimetype": "text/x-python",
   "name": "python",
   "nbconvert_exporter": "python",
   "pygments_lexer": "ipython3",
   "version": "3.9.6"
  }
 },
 "nbformat": 4,
 "nbformat_minor": 5
}
