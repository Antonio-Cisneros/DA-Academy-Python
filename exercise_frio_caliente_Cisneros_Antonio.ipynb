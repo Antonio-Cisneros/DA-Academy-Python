{
 'cells': [
  {
   'cell_type': 'markdown',
   'source': [
    '## Create a program that will play the “cows and bulls” game with the user. The game works like this:\r\n',
    '\r\n',
    '#### Randomly generate a 4-digit number. Ask the user to guess a 4-digit number. For every digit that the user guessed correctly in the correct place, they have a “cow”. For every digit the user guessed correctly in the wrong place is a “bull.” Every time the user makes a guess, tell them how many “cows” and “bulls” they have. Once the user guesses the correct number, the game is over. Keep track of the number of guesses the user makes throughout teh game and tell the user at the end.'
   ],
   'metadata': {}
  },
  {
   'cell_type': 'code',
   'execution_count': 1,
   'source': [
    'import random as rand'
   ],
   'outputs': [],
   'metadata': {}
  },
  {
   'cell_type': 'code',
   'execution_count': 2,
   'source': [
    'def caliente_and_frios_game(set_game = True):\r\n',
    '    num_to_guess = str(rand.randint(1000,9999))\r\n',
    '    #print(num_to_guess)\r\n',
    '    n_coin = 0\r\n',
    '    while set_game:\r\n',
    '        n_coin += 1\r\n',
    '        print(\'Coin #{}\'.format(n_coin))  \r\n',
    '        user_guess = input(\'Enter a four-digit number or exit to die: \')\r\n',
    '        if len(user_guess) != 4:\r\n',
    '            print(\'Enter a four-digit number, try again!\')\r\n',
    '            continue\r\n',
    '        elif user_guess == \'exit\':\r\n',
    '            print(\'YOU DIED\')\r\n',
    '            print(\'You spend {} coin(s)\'.format(n_coin))\r\n',
    '            break\r\n',
    '        \r\n',
    '        caliente, frios = 0,0\r\n',
    '        for i in range(0,len(num_to_guess)):\r\n',
    '            if user_guess[i] == num_to_guess[i]:\r\n',
    '                caliente += 1\r\n',
    '\r\n',
    '            elif user_guess[i] in num_to_guess: # not use num_to_guess[i] it will just increase the frios counter\r\n',
    '                frios += 1\r\n',
    '\r\n',
    '        if user_guess == num_to_guess:\r\n',
    '            print(\'{} is the right number\'.format(user_guess))\r\n',
    '            print(\'Number of coin(s): {} \'.format(n_coin))\r\n',
    '            break\r\n',
    '        else:\r\n',
    '            print(\'In {} there are: {} caliente, {} frios\'.format(user_guess,caliente, frios))\r\n',
    '\r\n',
    'caliente_and_frios_game(set_game = True)'
   ],
   'outputs': [
    {
     'output_type': 'stream',
     'name': 'stdout',
     'text': [
      'Coin #1\n',
      'YOU DIED\n',
      'You spend 1 coin(s)\n'
     ]
    }
   ],
   'metadata': {}
  },
  {
   'cell_type': 'code',
   'execution_count': null,
   'source': [],
   'outputs': [],
   'metadata': {}
  }
 ],
 'metadata': {
  'kernelspec': {
   'name': 'python3',
   'display_name': 'Python 3.9.6 64-bit'
  },
  'language_info': {
   'codemirror_mode': {
    'name': 'ipython',
    'version': 3
   },
   'file_extension': '.py',
   'mimetype': 'text/x-python',
   'name': 'python',
   'nbconvert_exporter': 'python',
   'pygments_lexer': 'ipython3',
   'version': '3.9.6'
  },
  'interpreter': {
   'hash': '695fdcca269af3d6a8ba574644b28da51c179bed1508fadbe7ac7893d6027de2'
  }
 },
 'nbformat': 4,
 'nbformat_minor': 5
}