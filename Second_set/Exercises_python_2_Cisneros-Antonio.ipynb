{
 "cells": [
  {
   "cell_type": "markdown",
   "id": "fce14aea",
   "metadata": {},
   "source": [
    "<h1><center>Python Academy - Exercises - 2</center></h1>\n",
    "<h1><center>(Antonio Cisneros Argüelles)</center></h1>"
   ]
  },
  {
   "cell_type": "code",
   "execution_count": 31,
   "id": "9e7ca010",
   "metadata": {},
   "outputs": [
    {
     "data": {
      "text/plain": [
       "<__main__.Exercises_2 at 0x27038f05be0>"
      ]
     },
     "execution_count": 31,
     "metadata": {},
     "output_type": "execute_result"
    }
   ],
   "source": [
    "# Class for the exercises functions\n",
    "class Exercises_2():\n",
    "    \n",
    "    def largest_number(set_list):\n",
    "        return max(set_list)\n",
    "        \n",
    "    def is_prime(number):\n",
    "        if number > 1:\n",
    "            for i in range(2,number):\n",
    "                if (number % i) == 0:\n",
    "                    return print(\"False, {} is not a prime number\".format(number))\n",
    "            return print(\"True, {} is a prime number\".format(number))\n",
    "        else:\n",
    "            print(\"False, {} is not a prime number\".format(number))\n",
    "        \n",
    "    def kilometers_conversion(km_value):\n",
    "        miles = km_value / 1.60934\n",
    "        return print(\"{0:.2f} km to miles is: {1:.4f} mi\"\n",
    "                     .format(km_value, miles))\n",
    "    \n",
    "    def sum_digits(number):\n",
    "        sum_digits = 0\n",
    "        for i in str(number):\n",
    "            #print(i)\n",
    "            if i.isdigit():\n",
    "                #print(i)\n",
    "                sum_digits += float(i)\n",
    "        return sum_digits\n",
    "    \n",
    "    def stop_fibonacci(number):\n",
    "        first_number, second_number = 0,1\n",
    "        print(first_number) \n",
    "        print(second_number)\n",
    "        sequence = 0\n",
    "        for i in range(number):\n",
    "            if first_number + second_number > number:\n",
    "                return True\n",
    "            sequence = first_number + second_number\n",
    "            first_number = second_number\n",
    "            second_number = sequence\n",
    "            print(sequence)\n",
    "                #print(fibo)\n",
    "Exercises_2()"
   ]
  },
  {
   "cell_type": "markdown",
   "id": "09407cd8",
   "metadata": {},
   "source": [
    "1) Find largest number in a list (parameter) (example: given the list [1,2,35] the largest number is 35)"
   ]
  },
  {
   "cell_type": "code",
   "execution_count": 32,
   "id": "9d3c099c",
   "metadata": {},
   "outputs": [
    {
     "data": {
      "text/plain": [
       "35"
      ]
     },
     "execution_count": 32,
     "metadata": {},
     "output_type": "execute_result"
    }
   ],
   "source": [
    "Exercises_2.largest_number([1,2,35,4])"
   ]
  },
  {
   "cell_type": "markdown",
   "id": "c7ff0b2d",
   "metadata": {},
   "source": [
    "2) Check a number is prime number or not (example: if I give \"3\" as parameter, the function must return True, otherwhise, False)"
   ]
  },
  {
   "cell_type": "code",
   "execution_count": 33,
   "id": "6b9d9bf1",
   "metadata": {},
   "outputs": [
    {
     "name": "stdout",
     "output_type": "stream",
     "text": [
      "True, 3 is a prime number\n"
     ]
    }
   ],
   "source": [
    "Exercises_2.is_prime(3)"
   ]
  },
  {
   "cell_type": "markdown",
   "id": "0edce0f2",
   "metadata": {},
   "source": [
    "3) Convert kilometers into miles"
   ]
  },
  {
   "cell_type": "code",
   "execution_count": 34,
   "id": "cbab3958",
   "metadata": {},
   "outputs": [
    {
     "name": "stdout",
     "output_type": "stream",
     "text": [
      "1.00 km to miles is: 0.6214 mi\n"
     ]
    }
   ],
   "source": [
    "Exercises_2.kilometers_conversion(1)"
   ]
  },
  {
   "cell_type": "markdown",
   "id": "ba5f8a35",
   "metadata": {},
   "source": [
    "4) sum of all digits in a number"
   ]
  },
  {
   "cell_type": "code",
   "execution_count": 35,
   "id": "8edae403",
   "metadata": {},
   "outputs": [
    {
     "data": {
      "text/plain": [
       "4.0"
      ]
     },
     "execution_count": 35,
     "metadata": {},
     "output_type": "execute_result"
    }
   ],
   "source": [
    "Exercises_2.sum_digits(2.11)"
   ]
  },
  {
   "cell_type": "markdown",
   "id": "c2369956",
   "metadata": {},
   "source": [
    "5) Print the Fibonacci series until a given number"
   ]
  },
  {
   "cell_type": "code",
   "execution_count": 36,
   "id": "f37aad2a",
   "metadata": {},
   "outputs": [
    {
     "name": "stdout",
     "output_type": "stream",
     "text": [
      "0\n",
      "1\n",
      "1\n",
      "2\n",
      "3\n",
      "5\n",
      "8\n",
      "13\n",
      "21\n",
      "34\n",
      "55\n",
      "89\n"
     ]
    },
    {
     "data": {
      "text/plain": [
       "True"
      ]
     },
     "execution_count": 36,
     "metadata": {},
     "output_type": "execute_result"
    }
   ],
   "source": [
    "Exercises_2.stop_fibonacci(120)"
   ]
  }
 ],
 "metadata": {
  "kernelspec": {
   "display_name": "Python 3 (ipykernel)",
   "language": "python",
   "name": "python3"
  },
  "language_info": {
   "codemirror_mode": {
    "name": "ipython",
    "version": 3
   },
   "file_extension": ".py",
   "mimetype": "text/x-python",
   "name": "python",
   "nbconvert_exporter": "python",
   "pygments_lexer": "ipython3",
   "version": "3.9.6"
  }
 },
 "nbformat": 4,
 "nbformat_minor": 5
}
