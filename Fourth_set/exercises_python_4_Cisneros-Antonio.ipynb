{
 "cells": [
  {
   "cell_type": "code",
   "execution_count": 1,
   "id": "acaa4f86",
   "metadata": {},
   "outputs": [],
   "source": [
    "# Libraries\n",
    "import datetime"
   ]
  },
  {
   "cell_type": "markdown",
   "id": "256a3d8e",
   "metadata": {},
   "source": [
    "### Exercise 1\n",
    "Write a function called \"sum_all\" that takes any number of arguments and returns their sum.\n",
    "#### Topics: Functions, *args"
   ]
  },
  {
   "cell_type": "code",
   "execution_count": 2,
   "id": "5c72965a",
   "metadata": {},
   "outputs": [
    {
     "data": {
      "text/plain": [
       "6"
      ]
     },
     "execution_count": 2,
     "metadata": {},
     "output_type": "execute_result"
    }
   ],
   "source": [
    "# Your ansnwer here:\n",
    "def sum_all(number_list):\n",
    "    sum_num = 0\n",
    "    for i in str(number_list):\n",
    "        sum_num += int(i)\n",
    "    return sum_num\n",
    "\n",
    "sum_all(123)"
   ]
  },
  {
   "cell_type": "markdown",
   "id": "aaa10c7d",
   "metadata": {},
   "source": [
    "### Exercise 2\n",
    "Write a program that takes a birthday as input and prints the user’s age and the number of days, hours, minutes and seconds until their next birthday\n",
    "#### Topics: Date and time value manipulation"
   ]
  },
  {
   "cell_type": "code",
   "execution_count": 3,
   "id": "4464fe39",
   "metadata": {},
   "outputs": [
    {
     "name": "stdout",
     "output_type": "stream",
     "text": [
      "Enter your birth's year [YYYY]: 1999\n",
      "Enter your birth month [MM]: 06\n",
      "Enter your birth day [DD]: 28\n",
      "Enter your birth hour [hh]: 13\n",
      "Enter your birth minutes [mm]: 35\n",
      "Enter your birth seconds o leave as 00 [ss]: 00\n",
      "Your birthdate is 1999-06-28 13:35:00\n",
      "Today's date is 2021-08-13 20:22:18.017891\n",
      "You're 22 years old\n",
      "Your next birthdate is on 2022-06-28 13:35:00\n",
      "Time left before your next birthdate is 318 days, 17:12:41.982109\n"
     ]
    }
   ],
   "source": [
    "# Your answer here:\n",
    "def birth_day():\n",
    "    year = int(input(\"Enter your birth's year [YYYY]: \")) # user's birth year\n",
    "    month = int(input(\"Enter your birth month [MM]: \")) # user's birth month\n",
    "    day = int(input(\"Enter your birth day [DD]: \")) # user's birth day\n",
    "    hour = int(input(\"Enter your birth hour [hh]: \")) # user's birth hour\n",
    "    minute = int(input(\"Enter your birth minutes [mm]: \")) # user's birth minute\n",
    "    seconds = int(input(\"Enter your birth seconds o leave as 00 [ss]: \")) # user's birth seconds\n",
    "    birthdate = datetime.datetime(year, month, day, hour, minute, seconds) # Set the date\n",
    "    today = datetime.datetime.now() # Set today's date\n",
    "    user_age = today.year - birthdate.year # user's age\n",
    "    \n",
    "    print(\"Your birthdate is {}\".format(birthdate)) \n",
    "    print(\"Today's date is {}\".format(today))\n",
    "    print(\"You're {} years old\".format(user_age))\n",
    "\n",
    "    if today.month == birthdate.month and today.day >= birthdate.day:\n",
    "        next_year = today.year + 1\n",
    "        pass\n",
    "    elif today.month > birthdate.month:\n",
    "        next_year = today.year + 1\n",
    "        pass\n",
    "    else:\n",
    "        age -= 1\n",
    "    next_birthdate = datetime.datetime(next_year, birthdate.month, birthdate.day,\n",
    "                                   birthdate.hour, \n",
    "                                   birthdate.minute, \n",
    "                                   birthdate.second)\n",
    "    next_birthdate_days = next_birthdate - today\n",
    "    print(\"Your next birthdate is on {}\".format(next_birthdate))\n",
    "    print(\"Time left before your next birthdate is {}\".format(next_birthdate_days))\n",
    "\n",
    "birth_day()"
   ]
  },
  {
   "cell_type": "markdown",
   "id": "202c6df5",
   "metadata": {},
   "source": [
    "### Exercise 3\n",
    "Write a function to add a given number to each element from a list\n",
    "#### Topics: Lambda"
   ]
  },
  {
   "cell_type": "code",
   "execution_count": 4,
   "id": "044423f7",
   "metadata": {},
   "outputs": [
    {
     "name": "stdout",
     "output_type": "stream",
     "text": [
      "The current list is [0, 1, 2, 3, 4, 5, 6, 7, 8, 9] and the number to add is 10\n",
      "The new list is: [10, 11, 12, 13, 14, 15, 16, 17, 18, 19]\n"
     ]
    }
   ],
   "source": [
    "# Your answer here:\n",
    "def add_number_to_list(list_num, number):\n",
    "    print(\"The current list is {} and the number to add is {}\".format(list_num, number))\n",
    "    add_number = list(map(lambda x: x + number, list_num))\n",
    "    return print(\"The new list is: {}\".format(add_number))\n",
    "\n",
    "add_number_to_list([0,1,2,3,4,5,6,7,8,9], 10)"
   ]
  },
  {
   "cell_type": "markdown",
   "id": "216bbc8b",
   "metadata": {},
   "source": [
    "### Exercise 4\n",
    "Write a function to filter even numbers from a list using lambda\n",
    "#### Topics: Lambda"
   ]
  },
  {
   "cell_type": "code",
   "execution_count": 5,
   "id": "13080390",
   "metadata": {},
   "outputs": [
    {
     "data": {
      "text/plain": [
       "[0, 2, 4, 6, 8, 10, 12, 14, 16, 18]"
      ]
     },
     "execution_count": 5,
     "metadata": {},
     "output_type": "execute_result"
    }
   ],
   "source": [
    "# Your answer here:\n",
    "def filter_even_numbers():\n",
    "    even_numbers = list(filter(lambda x: x % 2 == 0, range(0,20)))\n",
    "    return even_numbers\n",
    "\n",
    "filter_even_numbers()"
   ]
  },
  {
   "cell_type": "markdown",
   "id": "a4cdd733",
   "metadata": {},
   "source": [
    "### Extra Exercise\n",
    "Write a program that reads lorem.txt and prints only the words with more than 10 characters (not counting whitespace).\n",
    "\n",
    "#### Topics: File handling, string method, lambda, loops¶"
   ]
  },
  {
   "cell_type": "code",
   "execution_count": 6,
   "id": "2a83403b",
   "metadata": {},
   "outputs": [
    {
     "name": "stdout",
     "output_type": "stream",
     "text": [
      "consectetur\n",
      "exercitation\n",
      "reprehenderit\n"
     ]
    }
   ],
   "source": [
    "with open(\"lorem.txt\", \"r\") as xfile:\n",
    "    xfile = xfile.read()\n",
    "    #print(xfile)\n",
    "    #print (xfile.split())\n",
    "    for i in xfile.split():\n",
    "        #print(i)\n",
    "        if len(i) > 10:\n",
    "            print(i)"
   ]
  },
  {
   "cell_type": "markdown",
   "id": "79d4bf23",
   "metadata": {},
   "source": [
    "### Extra: complete exercises from codingbat: https://codingbat.com/python/Logic-2"
   ]
  },
  {
   "cell_type": "code",
   "execution_count": null,
   "id": "d578a9cf",
   "metadata": {},
   "outputs": [],
   "source": [
    "def round_sum(a, b, c):\n",
    "    return round10(a) + round10(b) + round10(c)\n",
    "\n",
    "def round10(num):\n",
    "    if num % 10 >= 5:\n",
    "        return num + (10 - (num % 10))\n",
    "    else:\n",
    "        return num - (num % 10)"
   ]
  },
  {
   "cell_type": "code",
   "execution_count": null,
   "id": "32332b15",
   "metadata": {},
   "outputs": [],
   "source": [
    "def make_bricks(small, big, goal):\n",
    "    if small >= goal - (big * 5) and goal % 5 <= small :\n",
    "        return True\n",
    "    else:\n",
    "        return False"
   ]
  },
  {
   "cell_type": "code",
   "execution_count": null,
   "id": "c53fc89b",
   "metadata": {},
   "outputs": [],
   "source": [
    "def make_chocolate(small, big, goal):\n",
    "    if big >= (goal / 5) and small >= (goal % 5): \n",
    "        return goal % 5\n",
    "    elif big <= (goal / 5) and (goal / 5 - big) * 5 + (goal % 5) <= small:\n",
    "        return (goal / 5 - big) * 5 + goal % 5\n",
    "    else:\n",
    "        return -1"
   ]
  },
  {
   "cell_type": "code",
   "execution_count": null,
   "id": "3a268cc1",
   "metadata": {},
   "outputs": [],
   "source": [
    "def lone_sum(a, b, c):\n",
    "    if a == b and a == c:\n",
    "        return 0\n",
    "    elif c != a and c == b:\n",
    "        return a\n",
    "    elif a != b and a == c:\n",
    "        return b\n",
    "    elif a != c and a == b:\n",
    "        return c\n",
    "    else:\n",
    "        return a + b + c"
   ]
  },
  {
   "cell_type": "code",
   "execution_count": null,
   "id": "354930cd",
   "metadata": {},
   "outputs": [],
   "source": [
    "def lucky_sum(a, b, c):\n",
    "  if a == 13:\n",
    "    return 0\n",
    "  elif b == 13:\n",
    "    return a\n",
    "  elif c == 13:\n",
    "    return a + b\n",
    "  else:\n",
    "    return a + b + c"
   ]
  },
  {
   "cell_type": "code",
   "execution_count": null,
   "id": "32f82b91",
   "metadata": {},
   "outputs": [],
   "source": [
    "def no_teen_sum(a, b, c):\n",
    "    return fix_teen(a) + fix_teen(b) + fix_teen(c)\n",
    "  \n",
    "def fix_teen(n):\n",
    "    if n >= 13 and n <= 19:\n",
    "        if n == 15 or n == 16:\n",
    "            return n\n",
    "        else:\n",
    "            return 0\n",
    "    else:\n",
    "        return n"
   ]
  },
  {
   "cell_type": "code",
   "execution_count": null,
   "id": "df05ddac",
   "metadata": {},
   "outputs": [],
   "source": [
    "def close_far(a, b, c):\n",
    "    if abs(a - b) <= 1 and abs(b - c) >= 2 and abs(a - c) >= 2:\n",
    "        return True\n",
    "    elif abs(a - c) <= 1 and abs(a - b) >= 2 and abs(b - c) >= 2:\n",
    "        return True\n",
    "    else:\n",
    "        return False"
   ]
  }
 ],
 "metadata": {
  "kernelspec": {
   "display_name": "Python 3 (ipykernel)",
   "language": "python",
   "name": "python3"
  },
  "language_info": {
   "codemirror_mode": {
    "name": "ipython",
    "version": 3
   },
   "file_extension": ".py",
   "mimetype": "text/x-python",
   "name": "python",
   "nbconvert_exporter": "python",
   "pygments_lexer": "ipython3",
   "version": "3.9.6"
  }
 },
 "nbformat": 4,
 "nbformat_minor": 5
}
