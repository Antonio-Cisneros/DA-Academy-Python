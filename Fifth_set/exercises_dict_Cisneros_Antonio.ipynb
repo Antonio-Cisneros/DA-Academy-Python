{
 "cells": [
  {
   "cell_type": "markdown",
   "source": [
    "## For this exercise, we will keep track of when our friend’s birthdays are, and be able to find that information based on their name. Create a dictionary (in your jupyter) of names and birthdays. When you run your program it should ask the user to enter a name, and return the birthday of that person back to them. The interaction should look something like this:\r\n",
    "\r\n",
    "```bash\r\n",
    ">>> Welcome to the birthday dictionary. We know the birthdays of:\r\n",
    "Albert Einstein\r\n",
    "Benjamin Franklin\r\n",
    "Ada Lovelace\r\n",
    ">>> Who's birthday do you want to look up?\r\n",
    "Benjamin Franklin\r\n",
    ">>> Benjamin Franklin's birthday is 01/17/1706.\r\n",
    "```"
   ],
   "metadata": {}
  },
  {
   "cell_type": "code",
   "execution_count": 1,
   "source": [
    "thisdict = {\r\n",
    "    'Antonio': '28/06/1999',\r\n",
    "    'Alfredo': '16/11/1997',\r\n",
    "    'Andrik': '10/10/2001'\r\n",
    "}"
   ],
   "outputs": [],
   "metadata": {}
  },
  {
   "cell_type": "code",
   "execution_count": 8,
   "source": [
    "def get_birthday(birthday = True):\r\n",
    "    while birthday:\r\n",
    "\r\n",
    "        print(\"\\nThe actual dictionary:\")\r\n",
    "        for i in thisdict.keys():\r\n",
    "            print(i)\r\n",
    "        user_get_birthday = input(\"Who's birthday do you want? or exit\")\r\n",
    "        if user_get_birthday == 'exit':\r\n",
    "            break\r\n",
    "\r\n",
    "        elif user_get_birthday not in thisdict.keys():\r\n",
    "            print(\"{} doesn't exist in memory\\n\".format(user_get_birthday))\r\n",
    "\r\n",
    "            # Challenge\r\n",
    "            add_person = input(\"Do you want to add the person? (y/n)\")\r\n",
    "            if add_person == \"y\" or add_person == \"yes\":\r\n",
    "                add_date = input(\"When it is her/his birthday? (If you remmember) \")\r\n",
    "                thisdict[user_get_birthday] = add_date\r\n",
    "                print(\"\\nThe person now exist in the dictionary\")\r\n",
    "        \r\n",
    "        else:\r\n",
    "            print(\"\\n{} birthday is on {}\".format(user_get_birthday, thisdict[user_get_birthday]))\r\n",
    "\r\n",
    "    \r\n",
    "get_birthday(birthday = True)"
   ],
   "outputs": [
    {
     "output_type": "stream",
     "name": "stdout",
     "text": [
      "\n",
      "The actual dictionary:\n",
      "Antonio\n",
      "Alfredo\n",
      "Andrik\n",
      "Jose\n",
      "\n",
      "Jose birthday is on 04/07/1962\n",
      "\n",
      "The actual dictionary:\n",
      "Antonio\n",
      "Alfredo\n",
      "Andrik\n",
      "Jose\n",
      "\n",
      "Antonio birthday is on 28/06/1999\n",
      "\n",
      "The actual dictionary:\n",
      "Antonio\n",
      "Alfredo\n",
      "Andrik\n",
      "Jose\n",
      "\n",
      "Alfredo birthday is on 16/11/1997\n",
      "\n",
      "The actual dictionary:\n",
      "Antonio\n",
      "Alfredo\n",
      "Andrik\n",
      "Jose\n",
      "\n",
      "Andrik birthday is on 10/10/2001\n",
      "\n",
      "The actual dictionary:\n",
      "Antonio\n",
      "Alfredo\n",
      "Andrik\n",
      "Jose\n"
     ]
    }
   ],
   "metadata": {}
  },
  {
   "cell_type": "code",
   "execution_count": null,
   "source": [],
   "outputs": [],
   "metadata": {}
  }
 ],
 "metadata": {
  "orig_nbformat": 4,
  "language_info": {
   "name": "python",
   "version": "3.9.6",
   "mimetype": "text/x-python",
   "codemirror_mode": {
    "name": "ipython",
    "version": 3
   },
   "pygments_lexer": "ipython3",
   "nbconvert_exporter": "python",
   "file_extension": ".py"
  },
  "kernelspec": {
   "name": "python3",
   "display_name": "Python 3.9.6 64-bit"
  },
  "interpreter": {
   "hash": "695fdcca269af3d6a8ba574644b28da51c179bed1508fadbe7ac7893d6027de2"
  }
 },
 "nbformat": 4,
 "nbformat_minor": 2
}