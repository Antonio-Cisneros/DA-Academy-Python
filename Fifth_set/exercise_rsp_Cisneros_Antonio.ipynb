{
 "cells": [
  {
   "cell_type": "markdown",
   "source": [
    "## Exercise for today is creating a Rock, Scissors, Paper game."
   ],
   "metadata": {}
  },
  {
   "cell_type": "code",
   "execution_count": 1,
   "source": [
    "from random import choice"
   ],
   "outputs": [],
   "metadata": {}
  },
  {
   "cell_type": "code",
   "execution_count": 3,
   "source": [
    "def rock_papper_scissors(set_game = True):\r\n",
    "    print(\"WELCOME TO ROCK, SCISSORS, PAPER GAME\\n\")\r\n",
    "    tries = 0\r\n",
    "    tie = 0\r\n",
    "    winner, loser = 0,0\r\n",
    "    while set_game:\r\n",
    "        tries += 1\r\n",
    "        print(\"FIGHT\")\r\n",
    "        set_player = input(\"Enter an option (rock, scissors, paper) or exit to die: \")\r\n",
    "\r\n",
    "        if set_player == \"exit\":\r\n",
    "            print(\"YOU DIED\")\r\n",
    "            print(\"You only spend {} (try/tries)\".format(tries))\r\n",
    "            break\r\n",
    "\r\n",
    "        CPU = (\"rock\", \"scissors\", \"paper\")\r\n",
    "        CPU_move = choice(CPU)\r\n",
    "\r\n",
    "        # Game set\r\n",
    "\r\n",
    "        if set_player == CPU_move:\r\n",
    "            print(\"The CPU chose {} too\".format(CPU_move))\r\n",
    "            print(\"Tie\")\r\n",
    "            tie += 1\r\n",
    "        \r\n",
    "        elif (set_player == \"rock\" and CPU_move == \"scissors\") or (set_player == \"scissors\" and CPU_move == \"paper\") or (set_player == \"paper\" and CPU_move == \"rock\"):\r\n",
    "            print(\"You chose {}\".format(set_player))\r\n",
    "            print(\"The CPU chose {}\".format(CPU_move))\r\n",
    "            print(\"YOU WIN\")\r\n",
    "            winner += 1\r\n",
    "\r\n",
    "        elif (CPU_move == \"rock\" and set_player == \"scissors\") or (CPU_move == \"scissors\" and set_player == \"paper\") or (CPU_move == \"paper\" and set_player == \"rock\"):\r\n",
    "            print(\"You chose {}\".format(set_player))\r\n",
    "            print(\"The CPU chose {}\".format(CPU_move))\r\n",
    "            print(\"YOU LOSE\")\r\n",
    "            loser += 1\r\n",
    "\r\n",
    "        # Game count\r\n",
    "        if tie == 3:\r\n",
    "            print(\"You tied\")\r\n",
    "            print(\"You only lose {}\".format(loser))\r\n",
    "            print(\"You only win {}\".format(winner))\r\n",
    "            print(\"You only spend {} (try/tries)\".format(tries))\r\n",
    "            break\r\n",
    "\r\n",
    "        elif winner == 3:\r\n",
    "            print('You won')\r\n",
    "            print(\"You only lose {}\".format(loser))\r\n",
    "            print(\"You only spend {} (try/tries)\".format(tries))\r\n",
    "            break\r\n",
    "\r\n",
    "        elif loser == 3:\r\n",
    "            print(\"You lose\")\r\n",
    "            print(\"You only win {}\".format(winner))\r\n",
    "            print(\"You only spend {} (try/tries)\".format(tries))\r\n",
    "            break\r\n",
    "\r\n",
    "rock_papper_scissors(set_game=True)"
   ],
   "outputs": [
    {
     "output_type": "stream",
     "name": "stdout",
     "text": [
      "WELCOME TO ROCK, SCISSORS, PAPER GAME\n",
      "\n",
      "FIGHT\n",
      "The CPU chose rock too\n",
      "Tie\n",
      "FIGHT\n",
      "You chose rock\n",
      "The CPU chose scissors\n",
      "YOU WIN\n",
      "FIGHT\n",
      "The CPU chose rock too\n",
      "Tie\n",
      "FIGHT\n",
      "You chose rock\n",
      "The CPU chose paper\n",
      "YOU LOSE\n",
      "FIGHT\n",
      "The CPU chose rock too\n",
      "Tie\n",
      "You tied\n",
      "You only lose 1\n",
      "You only win 1\n",
      "You only spend 5 (try/tries)\n"
     ]
    }
   ],
   "metadata": {}
  },
  {
   "cell_type": "code",
   "execution_count": null,
   "source": [],
   "outputs": [],
   "metadata": {}
  }
 ],
 "metadata": {
  "orig_nbformat": 4,
  "language_info": {
   "name": "python",
   "version": "3.9.6",
   "mimetype": "text/x-python",
   "codemirror_mode": {
    "name": "ipython",
    "version": 3
   },
   "pygments_lexer": "ipython3",
   "nbconvert_exporter": "python",
   "file_extension": ".py"
  },
  "kernelspec": {
   "name": "python3",
   "display_name": "Python 3.9.6 64-bit"
  },
  "interpreter": {
   "hash": "695fdcca269af3d6a8ba574644b28da51c179bed1508fadbe7ac7893d6027de2"
  }
 },
 "nbformat": 4,
 "nbformat_minor": 2
}
